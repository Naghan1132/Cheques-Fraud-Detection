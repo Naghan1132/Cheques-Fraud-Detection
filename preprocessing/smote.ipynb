{
 "cells": [
  {
   "cell_type": "markdown",
   "metadata": {},
   "source": [
    "# SMOTE"
   ]
  },
  {
   "cell_type": "code",
   "execution_count": 12,
   "metadata": {},
   "outputs": [],
   "source": [
    "import pandas as pd\n",
    "\n",
    "df_train = pd.read_csv('../data/dataframe_train.csv')\n",
    "df_test = pd.read_csv('../data/dataframe_test.csv')"
   ]
  },
  {
   "cell_type": "code",
   "execution_count": 13,
   "metadata": {},
   "outputs": [
    {
     "data": {
      "text/html": [
       "<div>\n",
       "<style scoped>\n",
       "    .dataframe tbody tr th:only-of-type {\n",
       "        vertical-align: middle;\n",
       "    }\n",
       "\n",
       "    .dataframe tbody tr th {\n",
       "        vertical-align: top;\n",
       "    }\n",
       "\n",
       "    .dataframe thead th {\n",
       "        text-align: right;\n",
       "    }\n",
       "</style>\n",
       "<table border=\"1\" class=\"dataframe\">\n",
       "  <thead>\n",
       "    <tr style=\"text-align: right;\">\n",
       "      <th></th>\n",
       "      <th>ZIBZIN</th>\n",
       "      <th>IDAvisAutorisationCheque</th>\n",
       "      <th>FlagImpaye</th>\n",
       "      <th>Montant</th>\n",
       "      <th>CodeDecision</th>\n",
       "      <th>VerifianceCPT1</th>\n",
       "      <th>VerifianceCPT2</th>\n",
       "      <th>VerifianceCPT3</th>\n",
       "      <th>D2CB</th>\n",
       "      <th>ScoringFP1</th>\n",
       "      <th>...</th>\n",
       "      <th>NbrMagasin3J</th>\n",
       "      <th>DiffDateTr1</th>\n",
       "      <th>DiffDateTr2</th>\n",
       "      <th>DiffDateTr3</th>\n",
       "      <th>CA3TRetMtt</th>\n",
       "      <th>CA3TR</th>\n",
       "      <th>Heure</th>\n",
       "      <th>Jour</th>\n",
       "      <th>Mois</th>\n",
       "      <th>Date</th>\n",
       "    </tr>\n",
       "  </thead>\n",
       "  <tbody>\n",
       "    <tr>\n",
       "      <th>0</th>\n",
       "      <td>A013010004908126703060931</td>\n",
       "      <td>78643044</td>\n",
       "      <td>0</td>\n",
       "      <td>20.00</td>\n",
       "      <td>1</td>\n",
       "      <td>0</td>\n",
       "      <td>0</td>\n",
       "      <td>0</td>\n",
       "      <td>551.0</td>\n",
       "      <td>0.000000</td>\n",
       "      <td>...</td>\n",
       "      <td>1</td>\n",
       "      <td>4.000000</td>\n",
       "      <td>4.0</td>\n",
       "      <td>4.0</td>\n",
       "      <td>20.00</td>\n",
       "      <td>0.00</td>\n",
       "      <td>27134</td>\n",
       "      <td>1</td>\n",
       "      <td>2</td>\n",
       "      <td>2017-02-01</td>\n",
       "    </tr>\n",
       "    <tr>\n",
       "      <th>1</th>\n",
       "      <td>A013011306908024927155000</td>\n",
       "      <td>78643045</td>\n",
       "      <td>0</td>\n",
       "      <td>20.00</td>\n",
       "      <td>1</td>\n",
       "      <td>0</td>\n",
       "      <td>0</td>\n",
       "      <td>0</td>\n",
       "      <td>551.0</td>\n",
       "      <td>0.000000</td>\n",
       "      <td>...</td>\n",
       "      <td>2</td>\n",
       "      <td>1.797685</td>\n",
       "      <td>4.0</td>\n",
       "      <td>4.0</td>\n",
       "      <td>28.61</td>\n",
       "      <td>8.61</td>\n",
       "      <td>27817</td>\n",
       "      <td>1</td>\n",
       "      <td>2</td>\n",
       "      <td>2017-02-01</td>\n",
       "    </tr>\n",
       "    <tr>\n",
       "      <th>2</th>\n",
       "      <td>A013010002908283134592527</td>\n",
       "      <td>78643046</td>\n",
       "      <td>0</td>\n",
       "      <td>57.64</td>\n",
       "      <td>1</td>\n",
       "      <td>0</td>\n",
       "      <td>0</td>\n",
       "      <td>0</td>\n",
       "      <td>549.0</td>\n",
       "      <td>0.000000</td>\n",
       "      <td>...</td>\n",
       "      <td>1</td>\n",
       "      <td>4.000000</td>\n",
       "      <td>4.0</td>\n",
       "      <td>4.0</td>\n",
       "      <td>57.64</td>\n",
       "      <td>0.00</td>\n",
       "      <td>28058</td>\n",
       "      <td>1</td>\n",
       "      <td>2</td>\n",
       "      <td>2017-02-01</td>\n",
       "    </tr>\n",
       "    <tr>\n",
       "      <th>3</th>\n",
       "      <td>A011010002908105209831316</td>\n",
       "      <td>78643047</td>\n",
       "      <td>0</td>\n",
       "      <td>54.29</td>\n",
       "      <td>0</td>\n",
       "      <td>1</td>\n",
       "      <td>1</td>\n",
       "      <td>1</td>\n",
       "      <td>267.0</td>\n",
       "      <td>0.000000</td>\n",
       "      <td>...</td>\n",
       "      <td>1</td>\n",
       "      <td>4.000000</td>\n",
       "      <td>4.0</td>\n",
       "      <td>4.0</td>\n",
       "      <td>54.29</td>\n",
       "      <td>0.00</td>\n",
       "      <td>28128</td>\n",
       "      <td>1</td>\n",
       "      <td>2</td>\n",
       "      <td>2017-02-01</td>\n",
       "    </tr>\n",
       "    <tr>\n",
       "      <th>4</th>\n",
       "      <td>A013010041908000125652029</td>\n",
       "      <td>78643048</td>\n",
       "      <td>0</td>\n",
       "      <td>26.90</td>\n",
       "      <td>1</td>\n",
       "      <td>0</td>\n",
       "      <td>0</td>\n",
       "      <td>0</td>\n",
       "      <td>549.0</td>\n",
       "      <td>0.003769</td>\n",
       "      <td>...</td>\n",
       "      <td>1</td>\n",
       "      <td>1.997106</td>\n",
       "      <td>4.0</td>\n",
       "      <td>4.0</td>\n",
       "      <td>59.15</td>\n",
       "      <td>32.25</td>\n",
       "      <td>29607</td>\n",
       "      <td>1</td>\n",
       "      <td>2</td>\n",
       "      <td>2017-02-01</td>\n",
       "    </tr>\n",
       "  </tbody>\n",
       "</table>\n",
       "<p>5 rows × 25 columns</p>\n",
       "</div>"
      ],
      "text/plain": [
       "                      ZIBZIN  IDAvisAutorisationCheque  FlagImpaye  Montant  \\\n",
       "0  A013010004908126703060931                  78643044           0    20.00   \n",
       "1  A013011306908024927155000                  78643045           0    20.00   \n",
       "2  A013010002908283134592527                  78643046           0    57.64   \n",
       "3  A011010002908105209831316                  78643047           0    54.29   \n",
       "4  A013010041908000125652029                  78643048           0    26.90   \n",
       "\n",
       "   CodeDecision  VerifianceCPT1  VerifianceCPT2  VerifianceCPT3   D2CB  \\\n",
       "0             1               0               0               0  551.0   \n",
       "1             1               0               0               0  551.0   \n",
       "2             1               0               0               0  549.0   \n",
       "3             0               1               1               1  267.0   \n",
       "4             1               0               0               0  549.0   \n",
       "\n",
       "   ScoringFP1  ...  NbrMagasin3J  DiffDateTr1  DiffDateTr2  DiffDateTr3  \\\n",
       "0    0.000000  ...             1     4.000000          4.0          4.0   \n",
       "1    0.000000  ...             2     1.797685          4.0          4.0   \n",
       "2    0.000000  ...             1     4.000000          4.0          4.0   \n",
       "3    0.000000  ...             1     4.000000          4.0          4.0   \n",
       "4    0.003769  ...             1     1.997106          4.0          4.0   \n",
       "\n",
       "   CA3TRetMtt  CA3TR  Heure  Jour  Mois        Date  \n",
       "0       20.00   0.00  27134     1     2  2017-02-01  \n",
       "1       28.61   8.61  27817     1     2  2017-02-01  \n",
       "2       57.64   0.00  28058     1     2  2017-02-01  \n",
       "3       54.29   0.00  28128     1     2  2017-02-01  \n",
       "4       59.15  32.25  29607     1     2  2017-02-01  \n",
       "\n",
       "[5 rows x 25 columns]"
      ]
     },
     "execution_count": 13,
     "metadata": {},
     "output_type": "execute_result"
    }
   ],
   "source": [
    "df_train.head()"
   ]
  },
  {
   "cell_type": "code",
   "execution_count": 14,
   "metadata": {},
   "outputs": [],
   "source": [
    "from imblearn.over_sampling import SMOTE\n",
    "\n",
    "# Diviser le DataFrame en X (caractéristiques) et y (étiquettes)\n",
    "X = df_train.drop(['ZIBZIN','IDAvisAutorisationCheque','FlagImpaye','Date'], axis=1)\n",
    "y = df_train['FlagImpaye']\n",
    "\n",
    "df_test = df_test.drop(['ZIBZIN','IDAvisAutorisationCheque','Date'], axis=1)"
   ]
  },
  {
   "cell_type": "markdown",
   "metadata": {},
   "source": [
    "# SMOTE 5 %"
   ]
  },
  {
   "cell_type": "code",
   "execution_count": 15,
   "metadata": {},
   "outputs": [
    {
     "name": "stderr",
     "output_type": "stream",
     "text": [
      "c:\\Python311\\Lib\\site-packages\\imblearn\\over_sampling\\_smote\\base.py:345: FutureWarning: The parameter `n_jobs` has been deprecated in 0.10 and will be removed in 0.12. You can pass an nearest neighbors estimator where `n_jobs` is already set instead.\n",
      "  warnings.warn(\n"
     ]
    },
    {
     "name": "stdout",
     "output_type": "stream",
     "text": [
      "Nombre d'échantillons avant SMOTE: 3899362\n",
      "Nombre d'échantillons après SMOTE: 3914699\n"
     ]
    }
   ],
   "source": [
    "smote = SMOTE(sampling_strategy=0.01, random_state=42, k_neighbors=5,n_jobs=-1) # 1 %\n",
    "X_train_resampled, y_train_resampled = smote.fit_resample(X, y)\n",
    "\n",
    "# Afficher les informations après le SMOTE\n",
    "print(\"Nombre d'échantillons avant SMOTE:\", len(X))\n",
    "print(\"Nombre d'échantillons après SMOTE:\", len(X_train_resampled))\n",
    "\n",
    "# Concatenate X_train_resampled and y_train_resampled\n",
    "df_train_1_percent = pd.concat([X_train_resampled, y_train_resampled], axis=1)"
   ]
  },
  {
   "cell_type": "markdown",
   "metadata": {},
   "source": [
    "# SMOTE 35 %"
   ]
  },
  {
   "cell_type": "code",
   "execution_count": 16,
   "metadata": {},
   "outputs": [
    {
     "name": "stderr",
     "output_type": "stream",
     "text": [
      "c:\\Python311\\Lib\\site-packages\\imblearn\\over_sampling\\_smote\\base.py:345: FutureWarning: The parameter `n_jobs` has been deprecated in 0.10 and will be removed in 0.12. You can pass an nearest neighbors estimator where `n_jobs` is already set instead.\n",
      "  warnings.warn(\n"
     ]
    },
    {
     "name": "stdout",
     "output_type": "stream",
     "text": [
      "Nombre d'échantillons avant SMOTE: 3899362\n",
      "Nombre d'échantillons après SMOTE: 3992218\n"
     ]
    }
   ],
   "source": [
    "smote = SMOTE(sampling_strategy=0.03, random_state=42, k_neighbors=5,n_jobs=-1) # 3 %\n",
    "X_train_resampled, y_train_resampled = smote.fit_resample(X, y)\n",
    "\n",
    "# Afficher les informations après le SMOTE\n",
    "print(\"Nombre d'échantillons avant SMOTE:\", len(X))\n",
    "print(\"Nombre d'échantillons après SMOTE:\", len(X_train_resampled))\n",
    "\n",
    "# Concatenate X_train_resampled and y_train_resampled\n",
    "df_train_3_percent = pd.concat([X_train_resampled, y_train_resampled], axis=1)"
   ]
  },
  {
   "cell_type": "markdown",
   "metadata": {},
   "source": [
    "# SMOTE 50 %"
   ]
  },
  {
   "cell_type": "code",
   "execution_count": 17,
   "metadata": {},
   "outputs": [
    {
     "name": "stderr",
     "output_type": "stream",
     "text": [
      "c:\\Python311\\Lib\\site-packages\\imblearn\\over_sampling\\_smote\\base.py:345: FutureWarning: The parameter `n_jobs` has been deprecated in 0.10 and will be removed in 0.12. You can pass an nearest neighbors estimator where `n_jobs` is already set instead.\n",
      "  warnings.warn(\n"
     ]
    },
    {
     "name": "stdout",
     "output_type": "stream",
     "text": [
      "Nombre d'échantillons avant SMOTE: 3899362\n",
      "Nombre d'échantillons après SMOTE: 4069737\n"
     ]
    }
   ],
   "source": [
    "smote = SMOTE(sampling_strategy=0.05, random_state=42, k_neighbors=5,n_jobs=-1) # 50 %\n",
    "X_train_resampled, y_train_resampled = smote.fit_resample(X, y)\n",
    "\n",
    "# Afficher les informations après le SMOTE\n",
    "print(\"Nombre d'échantillons avant SMOTE:\", len(X))\n",
    "print(\"Nombre d'échantillons après SMOTE:\", len(X_train_resampled))\n",
    "\n",
    "# Concatenate X_train_resampled and y_train_resampled\n",
    "df_train_5_percent = pd.concat([X_train_resampled, y_train_resampled], axis=1)"
   ]
  },
  {
   "cell_type": "code",
   "execution_count": 18,
   "metadata": {},
   "outputs": [],
   "source": [
    "# from matplotlib import pyplot as plt\n",
    "\n",
    "# # Créer un diagramme à barres\n",
    "# plt.figure(figsize=(6, 4))\n",
    "# df_train_5_percent['FlagImpaye'].value_counts().plot(kind='bar', color=['skyblue', 'orange'])\n",
    "# plt.title('Value Counts de la colonne FlagImpaye')\n",
    "# plt.xlabel('FlagImpaye')\n",
    "# plt.ylabel('Nombre d\\'échantillons')\n",
    "# plt.xticks(rotation=0)\n",
    "# plt.show()\n",
    "# print(df_train_5_percent['FlagImpaye'].value_counts())"
   ]
  },
  {
   "cell_type": "code",
   "execution_count": 19,
   "metadata": {},
   "outputs": [],
   "source": [
    "# from matplotlib import pyplot as plt\n",
    "\n",
    "# # Créer un diagramme à barres\n",
    "# plt.figure(figsize=(6, 4))\n",
    "# df_train_35_percent['FlagImpaye'].value_counts().plot(kind='bar', color=['skyblue', 'orange'])\n",
    "# plt.title('Value Counts de la colonne FlagImpaye')\n",
    "# plt.xlabel('FlagImpaye')\n",
    "# plt.ylabel('Nombre d\\'échantillons')\n",
    "# plt.xticks(rotation=0)\n",
    "# plt.show()\n",
    "# print(df_train_35_percent['FlagImpaye'].value_counts())"
   ]
  },
  {
   "cell_type": "code",
   "execution_count": 20,
   "metadata": {},
   "outputs": [],
   "source": [
    "# from matplotlib import pyplot as plt\n",
    "\n",
    "# # Créer un diagramme à barres\n",
    "# plt.figure(figsize=(6, 4))\n",
    "# df_train_50_percent['FlagImpaye'].value_counts().plot(kind='bar', color=['skyblue', 'orange'])\n",
    "# plt.title('Value Counts de la colonne FlagImpaye')\n",
    "# plt.xlabel('FlagImpaye')\n",
    "# plt.ylabel('Nombre d\\'échantillons')\n",
    "# plt.xticks(rotation=0)\n",
    "# plt.show()\n",
    "# print(df_train_50_percent['FlagImpaye'].value_counts())"
   ]
  },
  {
   "cell_type": "code",
   "execution_count": 21,
   "metadata": {},
   "outputs": [],
   "source": [
    "df_train_1_percent.to_csv('../data/smote/dataframe_train_1_percent.csv',index=False)\n",
    "df_train_3_percent.to_csv('../data/smote/dataframe_train_3_percent.csv',index=False)\n",
    "df_train_5_percent.to_csv('../data/smote/dataframe_train_5_percent.csv',index=False)\n",
    "\n",
    "\n",
    "\n",
    "df_test.to_csv('../data/smote/dataframe_test.csv',index=False)"
   ]
  }
 ],
 "metadata": {
  "kernelspec": {
   "display_name": "Python 3",
   "language": "python",
   "name": "python3"
  },
  "language_info": {
   "codemirror_mode": {
    "name": "ipython",
    "version": 3
   },
   "file_extension": ".py",
   "mimetype": "text/x-python",
   "name": "python",
   "nbconvert_exporter": "python",
   "pygments_lexer": "ipython3",
   "version": "3.11.4"
  }
 },
 "nbformat": 4,
 "nbformat_minor": 2
}
