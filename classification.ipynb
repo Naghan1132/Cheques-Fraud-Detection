{
 "cells": [
  {
   "cell_type": "code",
   "execution_count": 4,
   "metadata": {},
   "outputs": [],
   "source": [
    "def maximimsation_marge(montant,status):\n",
    "    taux_marge = 0.05\n",
    "    if status == \"TP\":\n",
    "        res = 0 # le fraudeur est détecté\n",
    "    elif status == \"TN\":\n",
    "        res = taux_marge * montant # un client honnête est accepté\n",
    "    elif status == \"FP\":\n",
    "        res = 0.7*taux_marge * montant # un client honnête est bloqué\n",
    "    elif status == \"FN\": # un fraudeur est accepté\n",
    "        if montant <= 20:\n",
    "            res = 0\n",
    "        elif montant <= 50:\n",
    "            res = -0.2 * montant\n",
    "        elif montant <= 100:\n",
    "            res = -0.3 * montant\n",
    "        elif montant <= 200:\n",
    "            res = -0.5 * montant\n",
    "        else:\n",
    "            res = -0.8 * montant\n",
    "    return res"
   ]
  },
  {
   "cell_type": "code",
   "execution_count": 5,
   "metadata": {},
   "outputs": [],
   "source": [
    "def application_regles(y_test,y_pred):\n",
    "    df = pd.DataFrame({'y_test': y_test, 'y_pred': y_pred, 'status': \"null\"})\n",
    "    for index, row in df.iterrows():\n",
    "        if row['y_test'] == 1 and row['y_pred'] == 1:\n",
    "            df.at[index, 'status'] = \"TP\"\n",
    "        elif row['y_test'] == 0 and row['y_pred'] == 0:\n",
    "            df.at[index, 'status'] = \"TN\"\n",
    "        elif row['y_test'] == 0 and row['y_pred'] == 1:\n",
    "            df.at[index, 'status'] = \"FP\"\n",
    "        elif row['y_test'] == 1 and row['y_pred'] == 0:\n",
    "            df.at[index, 'status'] = \"FN\"\n",
    "    return df"
   ]
  },
  {
   "cell_type": "code",
   "execution_count": 6,
   "metadata": {},
   "outputs": [],
   "source": [
    "import pandas as pd\n",
    "\n",
    "df_train = pd.read_csv(\"data/smote/dataframe_train.csv\")\n",
    "df_test = pd.read_csv(\"data/smote/dataframe_test.csv\")"
   ]
  },
  {
   "cell_type": "code",
   "execution_count": 7,
   "metadata": {},
   "outputs": [
    {
     "name": "stdout",
     "output_type": "stream",
     "text": [
      "\\ F1 score du modèle sur l'ensemble de test : 0.6357689472572705\n",
      "[[351346 389492]\n",
      " [  3586   2987]]\n"
     ]
    }
   ],
   "source": [
    "from sklearn.metrics import confusion_matrix\n",
    "from sklearn.tree import DecisionTreeClassifier\n",
    "from sklearn.ensemble import RandomForestClassifier, GradientBoostingClassifier\n",
    "from sklearn.neighbors import KNeighborsClassifier\n",
    "from sklearn.svm import SVC\n",
    "from sklearn.neural_network import MLPClassifier\n",
    "from sklearn.discriminant_analysis import LinearDiscriminantAnalysis\n",
    "from sklearn.metrics import f1_score \n",
    "import pickle\n",
    "\n",
    "\n",
    "# TEST !\n",
    "#df_train = df_train[:1000]\n",
    "#df_test = df_test[:500]\n",
    "####################\n",
    "\n",
    "# ne pas utiliser  code decision\n",
    "X_train = df_train.drop(['FlagImpaye','CodeDecision'], axis=1)  \n",
    "y_train = df_train['FlagImpaye']\n",
    "\n",
    "X_test = df_test.drop(['FlagImpaye','CodeDecision'], axis=1)\n",
    "y_test = df_test['FlagImpaye']\n",
    "\n",
    "# Modèles\n",
    "models = {\n",
    "    'Decision Tree': DecisionTreeClassifier(random_state=42),\n",
    "    'Random Forest': RandomForestClassifier(random_state=42),\n",
    "    'Gradient Boosting': GradientBoostingClassifier(random_state=42),\n",
    "    'K-Nearest Neighbors': KNeighborsClassifier(),\n",
    "    'Support Vector Machine': SVC(),\n",
    "    'Neural Network': MLPClassifier(random_state=42),\n",
    "    'Linear Discriminant Analysis': LinearDiscriminantAnalysis()\n",
    "}\n",
    "\n",
    "# Initialiser un DataFrame pour stocker les résultats\n",
    "f1_df = pd.DataFrame(index=['SMOTE'], columns=models.keys())\n",
    "marge_df = pd.DataFrame(index=['SMOTE'], columns=models.keys())\n",
    "\n",
    "# Évaluer chaque modèle\n",
    "for model_name, model in models.items():\n",
    "    model.fit(X_train, y_train)\n",
    "    y_pred = model.predict(X_test)\n",
    "    f1 = f1_score(y_test, y_pred, average='weighted')\n",
    "    f1_df.at['SMOTE', model_name] = f1\n",
    "\n",
    "        \n",
    "    df_res = application_regles(y_test,y_pred)\n",
    "    for row in df_res.itertuples():\n",
    "        df_res.at[row.Index, 'marge'] = maximimsation_marge(X_test.at[row.Index, 'Montant'],row.status)\n",
    "    total_marge = df_res['marge'].sum()\n",
    "\n",
    "    marge_df.at['SMOTE', model_name] = total_marge\n",
    "\n",
    "    print(\"\\ F1 score du modèle sur l'ensemble de test :\", f1)\n",
    "    print(confusion_matrix(y_test, y_pred))\n",
    "\n",
    "    # save models\n",
    "    filename = 'models/' + model_name + '.pkl'\n",
    "    with open(filename, 'wb') as file:\n",
    "        pickle.dump(model, file)\n",
    "    \n",
    "    "
   ]
  },
  {
   "cell_type": "code",
   "execution_count": null,
   "metadata": {},
   "outputs": [],
   "source": [
    "marge_df.head()"
   ]
  },
  {
   "cell_type": "code",
   "execution_count": null,
   "metadata": {},
   "outputs": [],
   "source": [
    "f1_df.head()"
   ]
  },
  {
   "cell_type": "code",
   "execution_count": null,
   "metadata": {},
   "outputs": [],
   "source": [
    "df_train[\"FlagImpaye\"].value_counts()"
   ]
  },
  {
   "cell_type": "code",
   "execution_count": null,
   "metadata": {},
   "outputs": [],
   "source": [
    "df_test[\"FlagImpaye\"].value_counts()"
   ]
  },
  {
   "cell_type": "code",
   "execution_count": null,
   "metadata": {},
   "outputs": [],
   "source": [
    "# print(df_res)\n",
    "# total_marge = df_res['marge'].sum()\n",
    "# print(total_marge)"
   ]
  },
  {
   "cell_type": "code",
   "execution_count": null,
   "metadata": {},
   "outputs": [],
   "source": [
    "# indice = []\n",
    "# for row in df_res.itertuples():\n",
    "#     # fraudeur non détecté\n",
    "#     indice.append(row.y_test == 1 and row.y_pred == 0)\n",
    "\n",
    "# df_filtered = df_res.loc[indice]\n",
    "# print(df_filtered)\n",
    "# print(sum(df_filtered['marge']))"
   ]
  }
 ],
 "metadata": {
  "kernelspec": {
   "display_name": "Python 3",
   "language": "python",
   "name": "python3"
  },
  "language_info": {
   "codemirror_mode": {
    "name": "ipython",
    "version": 3
   },
   "file_extension": ".py",
   "mimetype": "text/x-python",
   "name": "python",
   "nbconvert_exporter": "python",
   "pygments_lexer": "ipython3",
   "version": "3.11.4"
  }
 },
 "nbformat": 4,
 "nbformat_minor": 2
}
