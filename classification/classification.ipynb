{
 "cells": [
  {
   "cell_type": "code",
   "execution_count": 40,
   "metadata": {},
   "outputs": [],
   "source": [
    "import pandas as pd\n",
    "import warnings\n",
    "import matplotlib.pyplot as plt\n",
    "import seaborn as sns\n",
    "warnings.filterwarnings('ignore')\n",
    "# Afficher toutes les lignes du résultat\n",
    "pd.set_option('display.max_rows', None)\n",
    "pd.set_option('display.max_columns', None)"
   ]
  },
  {
   "cell_type": "code",
   "execution_count": 16,
   "metadata": {},
   "outputs": [],
   "source": [
    "def maximimsation_marge(montant,status):\n",
    "    taux_marge = 0.05\n",
    "    if status == \"TP\":\n",
    "        res = 0 # le fraudeur est détecté\n",
    "    elif status == \"TN\":\n",
    "        res = taux_marge * montant # un client honnête est accepté\n",
    "    elif status == \"FP\":\n",
    "        res = 0.7*taux_marge * montant # un client honnête est bloqué     \n",
    "    elif status == \"FN\": # un fraudeur est accepté \n",
    "        if montant <= 20:\n",
    "            res = 0\n",
    "        elif montant <= 50:\n",
    "            res = -0.2 * montant\n",
    "        elif montant <= 100:\n",
    "            res = -0.3 * montant\n",
    "        elif montant <= 200:\n",
    "            res = -0.5 * montant\n",
    "        else:\n",
    "            res = -0.8 * montant\n",
    "    return res"
   ]
  },
  {
   "cell_type": "code",
   "execution_count": 17,
   "metadata": {},
   "outputs": [],
   "source": [
    "def application_regles(y_test,y_pred):\n",
    "    df = pd.DataFrame({'y_test': y_test, 'y_pred': y_pred, 'status': \"null\"})\n",
    "    for index, row in df.iterrows():\n",
    "        if row['y_test'] == 1 and row['y_pred'] == 1:\n",
    "            df.at[index, 'status'] = \"TP\"\n",
    "        elif row['y_test'] == 0 and row['y_pred'] == 0:\n",
    "            df.at[index, 'status'] = \"TN\"\n",
    "        elif row['y_test'] == 0 and row['y_pred'] == 1:\n",
    "            df.at[index, 'status'] = \"FP\"\n",
    "        elif row['y_test'] == 1 and row['y_pred'] == 0:\n",
    "            df.at[index, 'status'] = \"FN\"\n",
    "    return df"
   ]
  },
  {
   "cell_type": "code",
   "execution_count": 43,
   "metadata": {},
   "outputs": [
    {
     "name": "stdout",
     "output_type": "stream",
     "text": [
      "(5232519, 22)\n",
      "(747411, 22)\n"
     ]
    }
   ],
   "source": [
    "methods = [\"undersampling\",\"smote\"]\n",
    "\n",
    "method = \"smote\"\n",
    "\n",
    "\n",
    "df_train = pd.read_csv(\"../data/\"+method+\"/dataframe_train_50_percent.csv\")\n",
    "print(df_train.shape)\n",
    "\n",
    "\n",
    "df_test = pd.read_csv(\"../data/\"+method+\"/dataframe_test.csv\")\n",
    "print(df_test.shape)"
   ]
  },
  {
   "cell_type": "code",
   "execution_count": 44,
   "metadata": {},
   "outputs": [
    {
     "data": {
      "text/html": [
       "<div>\n",
       "<style scoped>\n",
       "    .dataframe tbody tr th:only-of-type {\n",
       "        vertical-align: middle;\n",
       "    }\n",
       "\n",
       "    .dataframe tbody tr th {\n",
       "        vertical-align: top;\n",
       "    }\n",
       "\n",
       "    .dataframe thead th {\n",
       "        text-align: right;\n",
       "    }\n",
       "</style>\n",
       "<table border=\"1\" class=\"dataframe\">\n",
       "  <thead>\n",
       "    <tr style=\"text-align: right;\">\n",
       "      <th></th>\n",
       "      <th>Montant</th>\n",
       "      <th>CodeDecision</th>\n",
       "      <th>VerifianceCPT1</th>\n",
       "      <th>VerifianceCPT2</th>\n",
       "      <th>VerifianceCPT3</th>\n",
       "      <th>D2CB</th>\n",
       "      <th>ScoringFP1</th>\n",
       "      <th>ScoringFP2</th>\n",
       "      <th>ScoringFP3</th>\n",
       "      <th>TauxImpNb_RB</th>\n",
       "      <th>TauxImpNB_CPM</th>\n",
       "      <th>EcartNumCheq</th>\n",
       "      <th>NbrMagasin3J</th>\n",
       "      <th>DiffDateTr1</th>\n",
       "      <th>DiffDateTr2</th>\n",
       "      <th>DiffDateTr3</th>\n",
       "      <th>CA3TRetMtt</th>\n",
       "      <th>CA3TR</th>\n",
       "      <th>Heure</th>\n",
       "      <th>Jour</th>\n",
       "      <th>Mois</th>\n",
       "      <th>FlagImpaye</th>\n",
       "    </tr>\n",
       "  </thead>\n",
       "  <tbody>\n",
       "    <tr>\n",
       "      <th>0</th>\n",
       "      <td>20.00</td>\n",
       "      <td>1</td>\n",
       "      <td>0</td>\n",
       "      <td>0</td>\n",
       "      <td>0</td>\n",
       "      <td>551.0</td>\n",
       "      <td>0.000000</td>\n",
       "      <td>0.000000</td>\n",
       "      <td>0.000000</td>\n",
       "      <td>37.186668</td>\n",
       "      <td>52.076034</td>\n",
       "      <td>0</td>\n",
       "      <td>1</td>\n",
       "      <td>4.000000</td>\n",
       "      <td>4.0</td>\n",
       "      <td>4.0</td>\n",
       "      <td>20.00</td>\n",
       "      <td>0.00</td>\n",
       "      <td>27134</td>\n",
       "      <td>1</td>\n",
       "      <td>2</td>\n",
       "      <td>0</td>\n",
       "    </tr>\n",
       "    <tr>\n",
       "      <th>1</th>\n",
       "      <td>20.00</td>\n",
       "      <td>1</td>\n",
       "      <td>0</td>\n",
       "      <td>0</td>\n",
       "      <td>0</td>\n",
       "      <td>551.0</td>\n",
       "      <td>0.000000</td>\n",
       "      <td>0.000000</td>\n",
       "      <td>0.000000</td>\n",
       "      <td>48.844716</td>\n",
       "      <td>52.076034</td>\n",
       "      <td>1</td>\n",
       "      <td>2</td>\n",
       "      <td>1.797685</td>\n",
       "      <td>4.0</td>\n",
       "      <td>4.0</td>\n",
       "      <td>28.61</td>\n",
       "      <td>8.61</td>\n",
       "      <td>27817</td>\n",
       "      <td>1</td>\n",
       "      <td>2</td>\n",
       "      <td>0</td>\n",
       "    </tr>\n",
       "    <tr>\n",
       "      <th>2</th>\n",
       "      <td>57.64</td>\n",
       "      <td>1</td>\n",
       "      <td>0</td>\n",
       "      <td>0</td>\n",
       "      <td>0</td>\n",
       "      <td>549.0</td>\n",
       "      <td>0.000000</td>\n",
       "      <td>0.000000</td>\n",
       "      <td>0.000000</td>\n",
       "      <td>73.118280</td>\n",
       "      <td>52.076034</td>\n",
       "      <td>0</td>\n",
       "      <td>1</td>\n",
       "      <td>4.000000</td>\n",
       "      <td>4.0</td>\n",
       "      <td>4.0</td>\n",
       "      <td>57.64</td>\n",
       "      <td>0.00</td>\n",
       "      <td>28058</td>\n",
       "      <td>1</td>\n",
       "      <td>2</td>\n",
       "      <td>0</td>\n",
       "    </tr>\n",
       "    <tr>\n",
       "      <th>3</th>\n",
       "      <td>54.29</td>\n",
       "      <td>0</td>\n",
       "      <td>1</td>\n",
       "      <td>1</td>\n",
       "      <td>1</td>\n",
       "      <td>267.0</td>\n",
       "      <td>0.000000</td>\n",
       "      <td>0.000000</td>\n",
       "      <td>0.000000</td>\n",
       "      <td>110.056926</td>\n",
       "      <td>53.554234</td>\n",
       "      <td>0</td>\n",
       "      <td>1</td>\n",
       "      <td>4.000000</td>\n",
       "      <td>4.0</td>\n",
       "      <td>4.0</td>\n",
       "      <td>54.29</td>\n",
       "      <td>0.00</td>\n",
       "      <td>28128</td>\n",
       "      <td>1</td>\n",
       "      <td>2</td>\n",
       "      <td>0</td>\n",
       "    </tr>\n",
       "    <tr>\n",
       "      <th>4</th>\n",
       "      <td>26.90</td>\n",
       "      <td>1</td>\n",
       "      <td>0</td>\n",
       "      <td>0</td>\n",
       "      <td>0</td>\n",
       "      <td>549.0</td>\n",
       "      <td>0.003769</td>\n",
       "      <td>8.586333</td>\n",
       "      <td>0.001192</td>\n",
       "      <td>45.368313</td>\n",
       "      <td>52.076034</td>\n",
       "      <td>1</td>\n",
       "      <td>1</td>\n",
       "      <td>1.997106</td>\n",
       "      <td>4.0</td>\n",
       "      <td>4.0</td>\n",
       "      <td>59.15</td>\n",
       "      <td>32.25</td>\n",
       "      <td>29607</td>\n",
       "      <td>1</td>\n",
       "      <td>2</td>\n",
       "      <td>0</td>\n",
       "    </tr>\n",
       "  </tbody>\n",
       "</table>\n",
       "</div>"
      ],
      "text/plain": [
       "   Montant  CodeDecision  VerifianceCPT1  VerifianceCPT2  VerifianceCPT3  \\\n",
       "0    20.00             1               0               0               0   \n",
       "1    20.00             1               0               0               0   \n",
       "2    57.64             1               0               0               0   \n",
       "3    54.29             0               1               1               1   \n",
       "4    26.90             1               0               0               0   \n",
       "\n",
       "    D2CB  ScoringFP1  ScoringFP2  ScoringFP3  TauxImpNb_RB  TauxImpNB_CPM  \\\n",
       "0  551.0    0.000000    0.000000    0.000000     37.186668      52.076034   \n",
       "1  551.0    0.000000    0.000000    0.000000     48.844716      52.076034   \n",
       "2  549.0    0.000000    0.000000    0.000000     73.118280      52.076034   \n",
       "3  267.0    0.000000    0.000000    0.000000    110.056926      53.554234   \n",
       "4  549.0    0.003769    8.586333    0.001192     45.368313      52.076034   \n",
       "\n",
       "   EcartNumCheq  NbrMagasin3J  DiffDateTr1  DiffDateTr2  DiffDateTr3  \\\n",
       "0             0             1     4.000000          4.0          4.0   \n",
       "1             1             2     1.797685          4.0          4.0   \n",
       "2             0             1     4.000000          4.0          4.0   \n",
       "3             0             1     4.000000          4.0          4.0   \n",
       "4             1             1     1.997106          4.0          4.0   \n",
       "\n",
       "   CA3TRetMtt  CA3TR  Heure  Jour  Mois  FlagImpaye  \n",
       "0       20.00   0.00  27134     1     2           0  \n",
       "1       28.61   8.61  27817     1     2           0  \n",
       "2       57.64   0.00  28058     1     2           0  \n",
       "3       54.29   0.00  28128     1     2           0  \n",
       "4       59.15  32.25  29607     1     2           0  "
      ]
     },
     "execution_count": 44,
     "metadata": {},
     "output_type": "execute_result"
    }
   ],
   "source": [
    "df_train.head()"
   ]
  },
  {
   "cell_type": "code",
   "execution_count": 20,
   "metadata": {},
   "outputs": [],
   "source": [
    "col_to_drop = [\"CodeDecision\"]\n",
    "\n",
    "df_train = df_train.drop(columns=col_to_drop)\n",
    "df_test = df_test.drop(columns=col_to_drop)\n",
    "\n",
    "df_train = df_train.sample(n=1000, random_state=42)\n",
    "df_test = df_test.sample(n=3, random_state=42)"
   ]
  },
  {
   "cell_type": "code",
   "execution_count": 32,
   "metadata": {},
   "outputs": [
    {
     "data": {
      "image/png": "[encoded data removed]",
      "text/plain": [
       "<Figure size 640x480 with 2 Axes>"
      ]
     },
     "metadata": {},
     "output_type": "display_data"
    }
   ],
   "source": [
    "corr = df_train.corr()\n",
    "plot = sns.heatmap(corr, xticklabels=corr.columns, yticklabels=corr.columns, cmap=sns.diverging_palette(220, 20, as_cmap=True))"
   ]
  },
  {
   "cell_type": "markdown",
   "metadata": {},
   "source": [
    "# STANDARDISATION"
   ]
  },
  {
   "cell_type": "code",
   "execution_count": 56,
   "metadata": {},
   "outputs": [
    {
     "name": "stdout",
     "output_type": "stream",
     "text": [
      "Montant           float64\n",
      "CodeDecision        int64\n",
      "VerifianceCPT1      int64\n",
      "VerifianceCPT2      int64\n",
      "VerifianceCPT3      int64\n",
      "D2CB              float64\n",
      "ScoringFP1        float64\n",
      "ScoringFP2        float64\n",
      "ScoringFP3        float64\n",
      "TauxImpNb_RB      float64\n",
      "TauxImpNB_CPM     float64\n",
      "EcartNumCheq        int64\n",
      "NbrMagasin3J        int64\n",
      "DiffDateTr1       float64\n",
      "DiffDateTr2       float64\n",
      "DiffDateTr3       float64\n",
      "CA3TRetMtt        float64\n",
      "CA3TR             float64\n",
      "Heure               int64\n",
      "Jour                int64\n",
      "Mois                int64\n",
      "FlagImpaye          int64\n",
      "dtype: object\n"
     ]
    }
   ],
   "source": [
    "import pandas as pd\n",
    "from sklearn.preprocessing import StandardScaler\n",
    "\n",
    "print(df_train.dtypes)\n",
    "def standardize_dataframe(dataframe):\n",
    "    # Sélectionner uniquement les colonnes numériques\n",
    "    numeric_cols = dataframe.select_dtypes(include=['float64', 'int64','int32']).columns\n",
    "    \n",
    "    # Copier le DataFrame pour éviter de modifier l'original\n",
    "    standardized_df = dataframe.copy()\n",
    "    \n",
    "    # Standardiser les colonnes numériques\n",
    "    scaler = StandardScaler()\n",
    "    standardized_df[numeric_cols] = scaler.fit_transform(dataframe[numeric_cols])\n",
    "    \n",
    "    return standardized_df"
   ]
  },
  {
   "cell_type": "markdown",
   "metadata": {},
   "source": [
    "# INITIALISATION - SCORER"
   ]
  },
  {
   "cell_type": "code",
   "execution_count": 47,
   "metadata": {},
   "outputs": [],
   "source": [
    "def scorer_marge(y_true, y_pred, X_train):\n",
    "    df_res = application_regles(y_true, y_pred)\n",
    "    total_marge = 0\n",
    "    \n",
    "    for row in df_res.itertuples():\n",
    "        montant = X_train.at[row.Index, 'Montant']  # Accéder au montant pour chaque ligne\n",
    "        total_marge += maximimsation_marge(montant, row.status)\n",
    "    \n",
    "    return total_marge"
   ]
  },
  {
   "cell_type": "markdown",
   "metadata": {},
   "source": [
    "# INITIALISATION - CLASSIFIERS"
   ]
  },
  {
   "cell_type": "code",
   "execution_count": 61,
   "metadata": {},
   "outputs": [
    {
     "name": "stdout",
     "output_type": "stream",
     "text": [
      "{'Random_Forest': RandomForestClassifier(), 'xgb_model': XGBClassifier(base_score=None, booster=None, callbacks=None,\n",
      "              colsample_bylevel=None, colsample_bynode=None,\n",
      "              colsample_bytree=None, device=None, early_stopping_rounds=None,\n",
      "              enable_categorical=False, eval_metric=None, feature_types=None,\n",
      "              gamma=None, grow_policy=None, importance_type=None,\n",
      "              interaction_constraints=None, learning_rate=None, max_bin=None,\n",
      "              max_cat_threshold=None, max_cat_to_onehot=None,\n",
      "              max_delta_step=None, max_depth=None, max_leaves=None,\n",
      "              min_child_weight=None, missing=nan, monotone_constraints=None,\n",
      "              multi_strategy=None, n_estimators=None, n_jobs=None,\n",
      "              num_parallel_tree=None, random_state=None, ...), 'Gradient_Boosting': GradientBoostingClassifier(), 'Support_Vector_Machine': SVC(), 'Logistic_Regression': LogisticRegression()}\n"
     ]
    }
   ],
   "source": [
    "from sklearn.ensemble import RandomForestClassifier\n",
    "from sklearn.tree import DecisionTreeClassifier\n",
    "from sklearn.ensemble import RandomForestClassifier, GradientBoostingClassifier\n",
    "from sklearn.linear_model import LogisticRegression\n",
    "import xgboost as xgb\n",
    "from sklearn.neighbors import KNeighborsClassifier\n",
    "from sklearn.svm import SVC\n",
    "from sklearn.neural_network import MLPClassifier\n",
    "from sklearn.discriminant_analysis import LinearDiscriminantAnalysis\n",
    "\n",
    "#Machine learning algorithms like linear regression, logistic regression, neural network, PCA (principal component analysis), etc., \n",
    "#that use gradient descent as an optimization technique require data to be scaled\n",
    "\n",
    "class_weights = {0: 1.0, 1: 10.0}  \n",
    "\n",
    "models = {\n",
    "    'Random_Forest': RandomForestClassifier(criterion=\"gini\"),\n",
    "    'xgb_model': xgb.XGBClassifier(objective='binary:logistic'),\n",
    "    'Gradient_Boosting': GradientBoostingClassifier(),\n",
    "    #'K_Nearest_Neighbors': KNeighborsClassifier(),\n",
    "    'Support_Vector_Machine': SVC(),\n",
    "    #'Neural_Network': MLPClassifier(),\n",
    "    #'Linear_Discriminant_Analysis': LinearDiscriminantAnalysis(),\n",
    "    'Logistic_Regression': LogisticRegression()\n",
    "}\n",
    "\n",
    "print(models)\n",
    "methods = [\"smote\",\"undersampling\"]"
   ]
  },
  {
   "cell_type": "markdown",
   "metadata": {},
   "source": [
    "# TRAINNING : GRID SEARCH - OPTIMISATION MARGE"
   ]
  },
  {
   "cell_type": "code",
   "execution_count": 62,
   "metadata": {},
   "outputs": [
    {
     "name": "stdout",
     "output_type": "stream",
     "text": [
      "{'Random_Forest': RandomForestClassifier(), 'xgb_model': XGBClassifier(base_score=None, booster=None, callbacks=None,\n",
      "              colsample_bylevel=None, colsample_bynode=None,\n",
      "              colsample_bytree=None, device=None, early_stopping_rounds=None,\n",
      "              enable_categorical=False, eval_metric=None, feature_types=None,\n",
      "              gamma=None, grow_policy=None, importance_type=None,\n",
      "              interaction_constraints=None, learning_rate=None, max_bin=None,\n",
      "              max_cat_threshold=None, max_cat_to_onehot=None,\n",
      "              max_delta_step=None, max_depth=None, max_leaves=None,\n",
      "              min_child_weight=None, missing=nan, monotone_constraints=None,\n",
      "              multi_strategy=None, n_estimators=None, n_jobs=None,\n",
      "              num_parallel_tree=None, random_state=None, ...), 'Gradient_Boosting': GradientBoostingClassifier(), 'Support_Vector_Machine': SVC(), 'Logistic_Regression': LogisticRegression()}\n",
      "\n",
      "Training Random_Forest for method smote...\n",
      "\n",
      " Best parameters for Random_Forest:  {'random_state': 42}\n",
      "Meilleure marge pour Random_Forest:  -3615670.017840771\n",
      "\n",
      "Training xgb_model for method smote...\n",
      "\n",
      " Best parameters for xgb_model:  {'random_state': 42}\n",
      "Meilleure marge pour xgb_model:  -5805143.011002574\n",
      "\n",
      "Training Gradient_Boosting for method smote...\n",
      "\n",
      " Best parameters for Gradient_Boosting:  {'random_state': 42}\n",
      "Meilleure marge pour Gradient_Boosting:  -9366156.027105074\n",
      "\n",
      "Training Support_Vector_Machine for method smote...\n"
     ]
    }
   ],
   "source": [
    "from sklearn.model_selection import GridSearchCV\n",
    "from sklearn.metrics import make_scorer\n",
    "from sklearn.metrics import confusion_matrix\n",
    "from sklearn.metrics import f1_score \n",
    "from sklearn.model_selection import TimeSeriesSplit\n",
    "import pickle\n",
    "\n",
    "print(models)\n",
    "\n",
    "\n",
    "# Classifiers (UnderSampling):\n",
    "# Logistic Regression classifier is more accurate than the other three classifiers in most cases. (We will further analyze Logistic Regression)\n",
    "# GridSearchCV is used to determine the paremeters that gives the best predictive score for the classifiers.\n",
    "# Logistic Regression has the best Receiving Operating Characteristic score (ROC), meaning that LogisticRegression pretty accurately separates fraud and non-fraud transactions.\n",
    "\n",
    "\n",
    "for m in methods:\n",
    "    df_train = pd.read_csv(\"../data/\"+m+\"/dataframe_train_50_percent.csv\")\n",
    "    #df_train = df_train.sample(n=1000, random_state=42)# test\n",
    "\n",
    "    X_train = standardize_dataframe(X_train) # on standardise les données\n",
    "    \n",
    "    X_train = df_train.drop(columns=[\"FlagImpaye\",\"CodeDecision\"])\n",
    "    y_train = df_train[\"FlagImpaye\"]\n",
    "\n",
    "    # Boucle sur chaque modèle\n",
    "    for model_name, model in models.items():\n",
    "        print(f\"\\nTraining {model_name} for method {m}...\")\n",
    "\n",
    "        # Définir le classificateur\n",
    "        clf = model\n",
    "\n",
    "        # Définir les paramètres que vous souhaitez tester dans la recherche de grille\n",
    "        param_grid = {}\n",
    "\n",
    "        # Ajouter des paramètres spécifiques pour chaque modèle\n",
    "        if model_name == 'Random_Forest':\n",
    "            param_grid = {\n",
    "                          #'n_estimators': [3, 5, 10, 50, 100],\n",
    "                          #'max_depth': [None, 10, 20],\n",
    "                          #'min_samples_leaf': [10, 15, 20, 25, 40],\n",
    "                          #'class_weight' : [None, class_weights],\n",
    "                          'random_state': [42]\n",
    "                          }\n",
    "        elif model_name == 'xgb_model':\n",
    "            param_grid = {\n",
    "                #'n_estimators': [50, 100, 200],\n",
    "                #'learning_rate': [0.01, 0.1, 0.2],\n",
    "                #'max_depth': [3, 5, 7],\n",
    "                #'subsample': [0.8, 1.0],\n",
    "                #'colsample_bytree': [0.8, 1.0],\n",
    "                #'gamma': [0, 0.1, 0.2],\n",
    "                #'min_child_weight': [1, 5, 10],\n",
    "                'random_state': [42]\n",
    "            }\n",
    "        elif model_name == 'Gradient_Boosting':\n",
    "            param_grid = {\n",
    "                #'n_estimators': [50, 100, 200],\n",
    "                #'learning_rate': [0.01, 0.1, 0.2],\n",
    "                #'max_depth': [3, 5, 7],\n",
    "                #'subsample': [0.8, 1.0],\n",
    "                #'min_samples_split': [2, 5, 10],\n",
    "                #'min_samples_leaf': [1, 2, 4],\n",
    "                #'max_features': [None, 'sqrt', 'log2'],\n",
    "                'random_state': [42]\n",
    "            }\n",
    "        elif model_name == 'K_Nearest_Neighbors':\n",
    "            param_grid = {\n",
    "                #'n_neighbors': [3, 5, 7, 10],\n",
    "                #'weights': ['uniform', 'distance'],\n",
    "                #'algorithm': ['auto', 'ball_tree', 'kd_tree', 'brute'],\n",
    "                #'leaf_size': [20, 30, 40],\n",
    "                #'p': [1, 2]\n",
    "            }\n",
    "        elif model_name == 'Support_Vector_Machine':\n",
    "            param_grid = {\n",
    "                #'C': [0.1, 1, 10],\n",
    "                #'kernel': ['linear', 'rbf', 'poly', 'sigmoid'],\n",
    "                #'degree': [2, 3, 4],\n",
    "                #'gamma': ['scale', 'auto'],\n",
    "                #'class_weight': [None, 'balanced',class_weights],\n",
    "                'random_state': [42]\n",
    "                \n",
    "            }\n",
    "        elif model_name == 'Neural_Network':\n",
    "            param_grid = {\n",
    "                #'hidden_layer_sizes': [(50,), (100,), (50, 50), (100, 50)],\n",
    "                #'activation': ['relu', 'tanh', 'logistic'],\n",
    "                #'solver': ['sgd', 'adam'],\n",
    "                #'alpha': [0.0001, 0.001, 0.01],\n",
    "                #'learning_rate': ['constant', 'invscaling', 'adaptive'],\n",
    "                #'max_iter': [100, 200, 300],\n",
    "                #'early_stopping': [True, False],\n",
    "                'random_state': [42]\n",
    "            }\n",
    "        elif model_name == 'Linear_Discriminant_Analysis':\n",
    "            param_grid = {\n",
    "            #'solver': ['svd', 'lsqr', 'eigen'],\n",
    "            #'shrinkage': [None, 'auto', 0.1, 0.5, 1.0],\n",
    "            #'n_components': [None, 1, 2, 3]\n",
    "        }\n",
    "        elif model_name == 'Logistic_Regression':\n",
    "            param_grid = {\n",
    "            #'penalty': ['l1', 'l2'],\n",
    "            #'C': [0.001, 0.01, 0.1, 1, 10, 100],\n",
    "            #'fit_intercept': [True, False],\n",
    "            #'class_weight': [None, 'balanced'],\n",
    "            #'solver': ['liblinear', 'saga'],\n",
    "            #'max_iter': [100, 200, 300],\n",
    "            'class_weight' : [None, class_weights],\n",
    "            'random_state': [42]\n",
    "        }\n",
    "        \n",
    "\n",
    "        scorer = make_scorer(scorer_marge,X_train=X_train,greater_is_better = True)\n",
    "\n",
    "        # Utiliser TimeSeriesSplit pour la validation croisée\n",
    "        tscv = TimeSeriesSplit(n_splits=4)\n",
    "\n",
    "        # Créer la grille de recherche avec votre fonction personnalisée comme mesure d'évaluation\n",
    "        grid_search = GridSearchCV(estimator=clf, param_grid=param_grid, scoring=scorer, cv=tscv, n_jobs=-1)\n",
    "\n",
    "        # Effectuer la recherche de grille\n",
    "        grid_search.fit(X_train, y_train)\n",
    "\n",
    "        # Afficher les résultats\n",
    "        print(f\"\\n Best parameters for {model_name}: \", grid_search.best_params_)\n",
    "        print(f\"Meilleure marge pour {model_name}: \", grid_search.best_score_)\n",
    "\n",
    "        # Sauvegarder le meilleur modèle si nécessaire\n",
    "        best_model = grid_search.best_estimator_\n",
    "        filename = '../models/'+m+\"/\"+ model_name + '.pkl'\n",
    "        pickle.dump(best_model, open(filename, \"wb\"))\n",
    "\n",
    "# Prendre le meilleur modèle et tuner ses paramètres à fond !!!"
   ]
  },
  {
   "cell_type": "markdown",
   "metadata": {},
   "source": [
    "# LOAD MODELS"
   ]
  },
  {
   "cell_type": "code",
   "execution_count": 58,
   "metadata": {},
   "outputs": [],
   "source": [
    "f1_df = pd.DataFrame(index=methods, columns=models.keys())\n",
    "marge_df = pd.DataFrame(index=methods, columns=models.keys())\n",
    "\n",
    "loaded_models = {}\n",
    "for m in methods:\n",
    "    loaded_models[m] = {}\n",
    "    for model_name in models.keys():\n",
    "        filename = '../models/'+m+\"/\"+ model_name + '.pkl'\n",
    "        with open(filename, 'rb') as file:\n",
    "            loaded_models[m][model_name] = pickle.load(file)"
   ]
  },
  {
   "cell_type": "markdown",
   "metadata": {},
   "source": [
    "# PREDICTING LOADED MODELS"
   ]
  },
  {
   "cell_type": "code",
   "execution_count": 60,
   "metadata": {},
   "outputs": [
    {
     "ename": "ValueError",
     "evalue": "The feature names should match those that were passed during fit.\nFeature names seen at fit time, yet now missing:\n- Cluster_Code_Decision\n",
     "output_type": "error",
     "traceback": [
      "\u001b[1;31m---------------------------------------------------------------------------\u001b[0m",
      "\u001b[1;31mValueError\u001b[0m                                Traceback (most recent call last)",
      "\u001b[1;32mc:\\Users\\nagrimault\\Documents\\fac\\s1\\fouille_donnees\\Cheques-Fraud-Detection\\classification\\classification.ipynb Cell 19\u001b[0m line \u001b[0;36m1\n\u001b[0;32m     <a href='vscode-notebook-cell:/c%3A/Users/nagrimault/Documents/fac/s1/fouille_donnees/Cheques-Fraud-Detection/classification/classification.ipynb#X30sZmlsZQ%3D%3D?line=9'>10</a>\u001b[0m y_test \u001b[39m=\u001b[39m df_test[\u001b[39m\"\u001b[39m\u001b[39mFlagImpaye\u001b[39m\u001b[39m\"\u001b[39m]\n\u001b[0;32m     <a href='vscode-notebook-cell:/c%3A/Users/nagrimault/Documents/fac/s1/fouille_donnees/Cheques-Fraud-Detection/classification/classification.ipynb#X30sZmlsZQ%3D%3D?line=11'>12</a>\u001b[0m \u001b[39mfor\u001b[39;00m model_name, model \u001b[39min\u001b[39;00m loaded_models\u001b[39m.\u001b[39mget(m, {})\u001b[39m.\u001b[39mitems():\n\u001b[1;32m---> <a href='vscode-notebook-cell:/c%3A/Users/nagrimault/Documents/fac/s1/fouille_donnees/Cheques-Fraud-Detection/classification/classification.ipynb#X30sZmlsZQ%3D%3D?line=12'>13</a>\u001b[0m     y_pred \u001b[39m=\u001b[39m model\u001b[39m.\u001b[39;49mpredict(X_test)\n\u001b[0;32m     <a href='vscode-notebook-cell:/c%3A/Users/nagrimault/Documents/fac/s1/fouille_donnees/Cheques-Fraud-Detection/classification/classification.ipynb#X30sZmlsZQ%3D%3D?line=13'>14</a>\u001b[0m     f1 \u001b[39m=\u001b[39m f1_score(y_test, y_pred)\n\u001b[0;32m     <a href='vscode-notebook-cell:/c%3A/Users/nagrimault/Documents/fac/s1/fouille_donnees/Cheques-Fraud-Detection/classification/classification.ipynb#X30sZmlsZQ%3D%3D?line=14'>15</a>\u001b[0m     f1_df\u001b[39m.\u001b[39mloc[m, model_name] \u001b[39m=\u001b[39m f1\n",
      "File \u001b[1;32mc:\\Python311\\Lib\\site-packages\\sklearn\\ensemble\\_forest.py:823\u001b[0m, in \u001b[0;36mForestClassifier.predict\u001b[1;34m(self, X)\u001b[0m\n\u001b[0;32m    802\u001b[0m \u001b[39mdef\u001b[39;00m \u001b[39mpredict\u001b[39m(\u001b[39mself\u001b[39m, X):\n\u001b[0;32m    803\u001b[0m \u001b[39m    \u001b[39m\u001b[39m\"\"\"\u001b[39;00m\n\u001b[0;32m    804\u001b[0m \u001b[39m    Predict class for X.\u001b[39;00m\n\u001b[0;32m    805\u001b[0m \n\u001b[1;32m   (...)\u001b[0m\n\u001b[0;32m    821\u001b[0m \u001b[39m        The predicted classes.\u001b[39;00m\n\u001b[0;32m    822\u001b[0m \u001b[39m    \"\"\"\u001b[39;00m\n\u001b[1;32m--> 823\u001b[0m     proba \u001b[39m=\u001b[39m \u001b[39mself\u001b[39;49m\u001b[39m.\u001b[39;49mpredict_proba(X)\n\u001b[0;32m    825\u001b[0m     \u001b[39mif\u001b[39;00m \u001b[39mself\u001b[39m\u001b[39m.\u001b[39mn_outputs_ \u001b[39m==\u001b[39m \u001b[39m1\u001b[39m:\n\u001b[0;32m    826\u001b[0m         \u001b[39mreturn\u001b[39;00m \u001b[39mself\u001b[39m\u001b[39m.\u001b[39mclasses_\u001b[39m.\u001b[39mtake(np\u001b[39m.\u001b[39margmax(proba, axis\u001b[39m=\u001b[39m\u001b[39m1\u001b[39m), axis\u001b[39m=\u001b[39m\u001b[39m0\u001b[39m)\n",
      "File \u001b[1;32mc:\\Python311\\Lib\\site-packages\\sklearn\\ensemble\\_forest.py:865\u001b[0m, in \u001b[0;36mForestClassifier.predict_proba\u001b[1;34m(self, X)\u001b[0m\n\u001b[0;32m    863\u001b[0m check_is_fitted(\u001b[39mself\u001b[39m)\n\u001b[0;32m    864\u001b[0m \u001b[39m# Check data\u001b[39;00m\n\u001b[1;32m--> 865\u001b[0m X \u001b[39m=\u001b[39m \u001b[39mself\u001b[39;49m\u001b[39m.\u001b[39;49m_validate_X_predict(X)\n\u001b[0;32m    867\u001b[0m \u001b[39m# Assign chunk of trees to jobs\u001b[39;00m\n\u001b[0;32m    868\u001b[0m n_jobs, _, _ \u001b[39m=\u001b[39m _partition_estimators(\u001b[39mself\u001b[39m\u001b[39m.\u001b[39mn_estimators, \u001b[39mself\u001b[39m\u001b[39m.\u001b[39mn_jobs)\n",
      "File \u001b[1;32mc:\\Python311\\Lib\\site-packages\\sklearn\\ensemble\\_forest.py:599\u001b[0m, in \u001b[0;36mBaseForest._validate_X_predict\u001b[1;34m(self, X)\u001b[0m\n\u001b[0;32m    596\u001b[0m \u001b[39m\u001b[39m\u001b[39m\"\"\"\u001b[39;00m\n\u001b[0;32m    597\u001b[0m \u001b[39mValidate X whenever one tries to predict, apply, predict_proba.\"\"\"\u001b[39;00m\n\u001b[0;32m    598\u001b[0m check_is_fitted(\u001b[39mself\u001b[39m)\n\u001b[1;32m--> 599\u001b[0m X \u001b[39m=\u001b[39m \u001b[39mself\u001b[39;49m\u001b[39m.\u001b[39;49m_validate_data(X, dtype\u001b[39m=\u001b[39;49mDTYPE, accept_sparse\u001b[39m=\u001b[39;49m\u001b[39m\"\u001b[39;49m\u001b[39mcsr\u001b[39;49m\u001b[39m\"\u001b[39;49m, reset\u001b[39m=\u001b[39;49m\u001b[39mFalse\u001b[39;49;00m)\n\u001b[0;32m    600\u001b[0m \u001b[39mif\u001b[39;00m issparse(X) \u001b[39mand\u001b[39;00m (X\u001b[39m.\u001b[39mindices\u001b[39m.\u001b[39mdtype \u001b[39m!=\u001b[39m np\u001b[39m.\u001b[39mintc \u001b[39mor\u001b[39;00m X\u001b[39m.\u001b[39mindptr\u001b[39m.\u001b[39mdtype \u001b[39m!=\u001b[39m np\u001b[39m.\u001b[39mintc):\n\u001b[0;32m    601\u001b[0m     \u001b[39mraise\u001b[39;00m \u001b[39mValueError\u001b[39;00m(\u001b[39m\"\u001b[39m\u001b[39mNo support for np.int64 index based sparse matrices\u001b[39m\u001b[39m\"\u001b[39m)\n",
      "File \u001b[1;32mc:\\Python311\\Lib\\site-packages\\sklearn\\base.py:580\u001b[0m, in \u001b[0;36mBaseEstimator._validate_data\u001b[1;34m(self, X, y, reset, validate_separately, cast_to_ndarray, **check_params)\u001b[0m\n\u001b[0;32m    509\u001b[0m \u001b[39mdef\u001b[39;00m \u001b[39m_validate_data\u001b[39m(\n\u001b[0;32m    510\u001b[0m     \u001b[39mself\u001b[39m,\n\u001b[0;32m    511\u001b[0m     X\u001b[39m=\u001b[39m\u001b[39m\"\u001b[39m\u001b[39mno_validation\u001b[39m\u001b[39m\"\u001b[39m,\n\u001b[1;32m   (...)\u001b[0m\n\u001b[0;32m    516\u001b[0m     \u001b[39m*\u001b[39m\u001b[39m*\u001b[39mcheck_params,\n\u001b[0;32m    517\u001b[0m ):\n\u001b[0;32m    518\u001b[0m \u001b[39m    \u001b[39m\u001b[39m\"\"\"Validate input data and set or check the `n_features_in_` attribute.\u001b[39;00m\n\u001b[0;32m    519\u001b[0m \n\u001b[0;32m    520\u001b[0m \u001b[39m    Parameters\u001b[39;00m\n\u001b[1;32m   (...)\u001b[0m\n\u001b[0;32m    578\u001b[0m \u001b[39m        validated.\u001b[39;00m\n\u001b[0;32m    579\u001b[0m \u001b[39m    \"\"\"\u001b[39;00m\n\u001b[1;32m--> 580\u001b[0m     \u001b[39mself\u001b[39;49m\u001b[39m.\u001b[39;49m_check_feature_names(X, reset\u001b[39m=\u001b[39;49mreset)\n\u001b[0;32m    582\u001b[0m     \u001b[39mif\u001b[39;00m y \u001b[39mis\u001b[39;00m \u001b[39mNone\u001b[39;00m \u001b[39mand\u001b[39;00m \u001b[39mself\u001b[39m\u001b[39m.\u001b[39m_get_tags()[\u001b[39m\"\u001b[39m\u001b[39mrequires_y\u001b[39m\u001b[39m\"\u001b[39m]:\n\u001b[0;32m    583\u001b[0m         \u001b[39mraise\u001b[39;00m \u001b[39mValueError\u001b[39;00m(\n\u001b[0;32m    584\u001b[0m             \u001b[39mf\u001b[39m\u001b[39m\"\u001b[39m\u001b[39mThis \u001b[39m\u001b[39m{\u001b[39;00m\u001b[39mself\u001b[39m\u001b[39m.\u001b[39m\u001b[39m__class__\u001b[39m\u001b[39m.\u001b[39m\u001b[39m__name__\u001b[39m\u001b[39m}\u001b[39;00m\u001b[39m estimator \u001b[39m\u001b[39m\"\u001b[39m\n\u001b[0;32m    585\u001b[0m             \u001b[39m\"\u001b[39m\u001b[39mrequires y to be passed, but the target y is None.\u001b[39m\u001b[39m\"\u001b[39m\n\u001b[0;32m    586\u001b[0m         )\n",
      "File \u001b[1;32mc:\\Python311\\Lib\\site-packages\\sklearn\\base.py:507\u001b[0m, in \u001b[0;36mBaseEstimator._check_feature_names\u001b[1;34m(self, X, reset)\u001b[0m\n\u001b[0;32m    502\u001b[0m \u001b[39mif\u001b[39;00m \u001b[39mnot\u001b[39;00m missing_names \u001b[39mand\u001b[39;00m \u001b[39mnot\u001b[39;00m unexpected_names:\n\u001b[0;32m    503\u001b[0m     message \u001b[39m+\u001b[39m\u001b[39m=\u001b[39m (\n\u001b[0;32m    504\u001b[0m         \u001b[39m\"\u001b[39m\u001b[39mFeature names must be in the same order as they were in fit.\u001b[39m\u001b[39m\\n\u001b[39;00m\u001b[39m\"\u001b[39m\n\u001b[0;32m    505\u001b[0m     )\n\u001b[1;32m--> 507\u001b[0m \u001b[39mraise\u001b[39;00m \u001b[39mValueError\u001b[39;00m(message)\n",
      "\u001b[1;31mValueError\u001b[0m: The feature names should match those that were passed during fit.\nFeature names seen at fit time, yet now missing:\n- Cluster_Code_Decision\n"
     ]
    }
   ],
   "source": [
    "from sklearn.metrics import ConfusionMatrixDisplay\n",
    "\n",
    "for m in methods:\n",
    "    df_test = pd.read_csv(\"../data/\"+m+\"/dataframe_test.csv\")\n",
    "    #df_test = df_test.sample(n=15, random_state=42) # test\n",
    "\n",
    "    X_test = standardize_dataframe(X_test) # on standardise les données\n",
    "\n",
    "    X_test = df_test.drop(columns=[\"FlagImpaye\",\"CodeDecision\"])\n",
    "    y_test = df_test[\"FlagImpaye\"]\n",
    "\n",
    "    for model_name, model in loaded_models.get(m, {}).items():\n",
    "        y_pred = model.predict(X_test)\n",
    "        f1 = f1_score(y_test, y_pred)\n",
    "        f1_df.loc[m, model_name] = f1\n",
    "\n",
    "\n",
    "        df_res = application_regles(y_test,y_pred)\n",
    "        for row in df_res.itertuples():\n",
    "            df_res.at[row.Index, 'marge'] = maximimsation_marge(X_test.at[row.Index, 'Montant'],row.status)\n",
    "\n",
    "    \n",
    "        total_marge = df_res['marge'].sum()\n",
    "        marge_df.at[m  , model_name] = total_marge\n",
    "\n",
    "        print(\"\\n F1 score de \",model_name,\" sur l'ensemble de test :\", f1)\n",
    "        print(\" Marge de \",model_name,\" sur l'ensemble de test :\", total_marge)\n",
    "        conf_matrix = confusion_matrix(y_test, y_pred)\n",
    "        print(conf_matrix)\n",
    "\n",
    "        disp = ConfusionMatrixDisplay(conf_matrix, display_labels=[True, False])\n",
    "        disp.plot()\n",
    "        plt.show()\n",
    "\n",
    "\n",
    "\n",
    "    \n",
    "    # Ajouter la marge parfaite au fichier de résultats \n",
    "    df_res = application_regles(y_test,y_test)\n",
    "    for row in df_res.itertuples():\n",
    "        df_res.at[row.Index, 'marge'] = maximimsation_marge(X_test.at[row.Index, 'Montant'],row.status)\n",
    "\n",
    "    total_marge = df_res['marge'].sum()\n",
    "    marge_df.at[m ,\"!_Modele_Parfait_!\"] = total_marge\n",
    "    print(\" Marge du modèle PARFAIT sur l'ensemble de test :\", total_marge)"
   ]
  },
  {
   "cell_type": "markdown",
   "metadata": {},
   "source": [
    "# Marge "
   ]
  },
  {
   "cell_type": "code",
   "execution_count": null,
   "metadata": {},
   "outputs": [
    {
     "data": {
      "text/html": [
       "<div>\n",
       "<style scoped>\n",
       "    .dataframe tbody tr th:only-of-type {\n",
       "        vertical-align: middle;\n",
       "    }\n",
       "\n",
       "    .dataframe tbody tr th {\n",
       "        vertical-align: top;\n",
       "    }\n",
       "\n",
       "    .dataframe thead th {\n",
       "        text-align: right;\n",
       "    }\n",
       "</style>\n",
       "<table border=\"1\" class=\"dataframe\">\n",
       "  <thead>\n",
       "    <tr style=\"text-align: right;\">\n",
       "      <th></th>\n",
       "      <th>Decision_Tree</th>\n",
       "      <th>Random_Forest</th>\n",
       "      <th>!_Modele_Parfait_!</th>\n",
       "    </tr>\n",
       "  </thead>\n",
       "  <tbody>\n",
       "    <tr>\n",
       "      <th>smote</th>\n",
       "      <td>7166.2682</td>\n",
       "      <td>7845.4936</td>\n",
       "      <td>9259.8825</td>\n",
       "    </tr>\n",
       "    <tr>\n",
       "      <th>undersampling</th>\n",
       "      <td>6878.09415</td>\n",
       "      <td>6732.97475</td>\n",
       "      <td>9259.8825</td>\n",
       "    </tr>\n",
       "  </tbody>\n",
       "</table>\n",
       "</div>"
      ],
      "text/plain": [
       "              Decision_Tree Random_Forest  !_Modele_Parfait_!\n",
       "smote             7166.2682     7845.4936           9259.8825\n",
       "undersampling    6878.09415    6732.97475           9259.8825"
      ]
     },
     "execution_count": 153,
     "metadata": {},
     "output_type": "execute_result"
    }
   ],
   "source": [
    "marge_df.to_csv('../data/marge.csv')\n",
    "marge_df.head()"
   ]
  },
  {
   "cell_type": "markdown",
   "metadata": {},
   "source": [
    "# F1 Score"
   ]
  },
  {
   "cell_type": "code",
   "execution_count": null,
   "metadata": {},
   "outputs": [
    {
     "data": {
      "text/html": [
       "<div>\n",
       "<style scoped>\n",
       "    .dataframe tbody tr th:only-of-type {\n",
       "        vertical-align: middle;\n",
       "    }\n",
       "\n",
       "    .dataframe tbody tr th {\n",
       "        vertical-align: top;\n",
       "    }\n",
       "\n",
       "    .dataframe thead th {\n",
       "        text-align: right;\n",
       "    }\n",
       "</style>\n",
       "<table border=\"1\" class=\"dataframe\">\n",
       "  <thead>\n",
       "    <tr style=\"text-align: right;\">\n",
       "      <th></th>\n",
       "      <th>Decision_Tree</th>\n",
       "      <th>Random_Forest</th>\n",
       "    </tr>\n",
       "  </thead>\n",
       "  <tbody>\n",
       "    <tr>\n",
       "      <th>smote</th>\n",
       "      <td>0.013136</td>\n",
       "      <td>0.021248</td>\n",
       "    </tr>\n",
       "    <tr>\n",
       "      <th>undersampling</th>\n",
       "      <td>0.021566</td>\n",
       "      <td>0.021053</td>\n",
       "    </tr>\n",
       "  </tbody>\n",
       "</table>\n",
       "</div>"
      ],
      "text/plain": [
       "              Decision_Tree Random_Forest\n",
       "smote              0.013136      0.021248\n",
       "undersampling      0.021566      0.021053"
      ]
     },
     "execution_count": 154,
     "metadata": {},
     "output_type": "execute_result"
    }
   ],
   "source": [
    "f1_df.to_csv('../data/f1_score.csv')\n",
    "f1_df.head()"
   ]
  },
  {
   "cell_type": "code",
   "execution_count": null,
   "metadata": {},
   "outputs": [
    {
     "data": {
      "text/plain": [
       "FlagImpaye\n",
       "0    772\n",
       "1    228\n",
       "Name: count, dtype: int64"
      ]
     },
     "execution_count": 155,
     "metadata": {},
     "output_type": "execute_result"
    }
   ],
   "source": [
    "df_train[\"FlagImpaye\"].value_counts()"
   ]
  },
  {
   "cell_type": "code",
   "execution_count": null,
   "metadata": {},
   "outputs": [
    {
     "data": {
      "text/plain": [
       "FlagImpaye\n",
       "0    2973\n",
       "1      27\n",
       "Name: count, dtype: int64"
      ]
     },
     "execution_count": 156,
     "metadata": {},
     "output_type": "execute_result"
    }
   ],
   "source": [
    "df_test[\"FlagImpaye\"].value_counts()"
   ]
  },
  {
   "cell_type": "code",
   "execution_count": null,
   "metadata": {},
   "outputs": [],
   "source": [
    "# optimisation de la marge\n",
    "#  donner la marge maximale (si modèle hypothétiquement parfait) et comparer avec la meilleure marge obtenue, du genre 'on a perdu 10% de marge par rapport au modèle parfait'\n",
    "\n",
    "# faire ligne SMOTE 40% et 60% et comparer les résultats etc...\n",
    "# faire ligne UNDERSAMPLING 40% et 60% et comparer les résultats etc...."
   ]
  },
  {
   "cell_type": "markdown",
   "metadata": {},
   "source": [
    "# 1 => document\n",
    "# 2 => clé valeur\n",
    "# 3 => \n",
    "# 4 => graph \n",
    "\n",
    "\n",
    "\n",
    "# clé valeur , document, graph, colonne "
   ]
  }
 ],
 "metadata": {
  "kernelspec": {
   "display_name": "Python 3",
   "language": "python",
   "name": "python3"
  },
  "language_info": {
   "codemirror_mode": {
    "name": "ipython",
    "version": 3
   },
   "file_extension": ".py",
   "mimetype": "text/x-python",
   "name": "python",
   "nbconvert_exporter": "python",
   "pygments_lexer": "ipython3",
   "version": "3.11.4"
  }
 },
 "nbformat": 4,
 "nbformat_minor": 2
}
